{
 "cells": [
  {
   "cell_type": "code",
   "execution_count": 0,
   "metadata": {
    "application/vnd.databricks.v1+cell": {
     "cellMetadata": {
      "byteLimit": 2048000,
      "rowLimit": 10000
     },
     "inputWidgets": {},
     "nuid": "a00b2d5f-b935-400f-8b2e-79f58ac4b64d",
     "showTitle": false,
     "title": ""
    }
   },
   "outputs": [],
   "source": [
    "import pandas as pd\n",
    "import matplotlib.pyplot as plt\n",
    "plt.style.use('fivethirtyeight')\n",
    "import seaborn as sns\n",
    "import numpy as np\n",
    "import json\n",
    "import warnings\n",
    "warnings.filterwarnings('ignore')\n",
    "import base64\n",
    "import io\n",
    "from matplotlib.pyplot import imread\n",
    "import codecs\n",
    "from IPython.display import HTML"
   ]
  },
  {
   "cell_type": "code",
   "execution_count": 0,
   "metadata": {
    "application/vnd.databricks.v1+cell": {
     "cellMetadata": {
      "byteLimit": 2048000,
      "rowLimit": 10000
     },
     "inputWidgets": {},
     "nuid": "6cafb585-f0f4-40d7-8291-e4f2bf1164a4",
     "showTitle": false,
     "title": ""
    }
   },
   "outputs": [
    {
     "output_type": "stream",
     "name": "stdout",
     "output_type": "stream",
     "text": [
      "Database connection closed.\n"
     ]
    }
   ],
   "source": [
    "import psycopg2\n",
    "\n",
    "# PostgreSQL database connection parameters\n",
    "db_params = {\n",
    "    'host': '',\n",
    "    'dbname': 'movie',\n",
    "    'user': \n",
    "    'password': '\n'",
    "    'sslmode': 'require'\n",
    "}\n",
    "\n",
    "try:\n",
    "    connection = psycopg2.connect(**db_params)\n",
    "    cursor = connection.cursor()\n",
    "\n",
    "    query = [\"SELECT * FROM title_basics WHERE titleType='movie' LIMIT 20  \" , \"SELECT * FROM title_ratings LIMIT 20\"] # Corrected query\n",
    "    cursor.execute(query[0])\n",
    "    rows1 = cursor.fetchall()  # Fetch the results\n",
    "    columns1 = [desc[0] for desc in cursor.description]\n",
    "    df1 = pd.DataFrame(rows1, columns=columns1)\n",
    "\n",
    "    cursor.execute(query[1])\n",
    "    rows2 = cursor.fetchall()  # Fetch the results\n",
    "    columns2 = [desc[0] for desc in cursor.description]\n",
    "    df2 = pd.DataFrame(rows2, columns=columns2)\n",
    "\n",
    "    connection.commit()\n",
    "\n",
    "except (Exception, psycopg2.Error) as error:\n",
    "    print(\"Error:\", error)\n",
    "\n",
    "finally:\n",
    "    if connection:\n",
    "        cursor.close()\n",
    "        connection.close()\n",
    "        print(\"Database connection closed.\")"
   ]
  },
  {
   "cell_type": "code",
   "execution_count": 0,
   "metadata": {
    "application/vnd.databricks.v1+cell": {
     "cellMetadata": {
      "byteLimit": 2048000,
      "rowLimit": 10000
     },
     "inputWidgets": {},
     "nuid": "50e0017f-4c0c-4400-8b53-225a1d95a4d0",
     "showTitle": false,
     "title": ""
    }
   },
   "outputs": [
    {
     "output_type": "execute_result",
     "data": {
      "text/html": [
       "<div>\n",
       "<style scoped>\n",
       "    .dataframe tbody tr th:only-of-type {\n",
       "        vertical-align: middle;\n",
       "    }\n",
       "\n",
       "    .dataframe tbody tr th {\n",
       "        vertical-align: top;\n",
       "    }\n",
       "\n",
       "    .dataframe thead th {\n",
       "        text-align: right;\n",
       "    }\n",
       "</style>\n",
       "<table border=\"1\" class=\"dataframe\">\n",
       "  <thead>\n",
       "    <tr style=\"text-align: right;\">\n",
       "      <th></th>\n",
       "      <th>tconst</th>\n",
       "      <th>titletype</th>\n",
       "      <th>primarytitle</th>\n",
       "      <th>originaltitle</th>\n",
       "      <th>isadult</th>\n",
       "      <th>startyear</th>\n",
       "      <th>endyear</th>\n",
       "      <th>runtimeminutes</th>\n",
       "      <th>genres</th>\n",
       "    </tr>\n",
       "  </thead>\n",
       "  <tbody>\n",
       "    <tr>\n",
       "      <th>0</th>\n",
       "      <td>tt13710866</td>\n",
       "      <td>movie</td>\n",
       "      <td>Unnecessary Roughness</td>\n",
       "      <td>Unnecessary Roughness</td>\n",
       "      <td>0</td>\n",
       "      <td>2021</td>\n",
       "      <td>None</td>\n",
       "      <td>None</td>\n",
       "      <td>Drama</td>\n",
       "    </tr>\n",
       "    <tr>\n",
       "      <th>1</th>\n",
       "      <td>tt1371087</td>\n",
       "      <td>movie</td>\n",
       "      <td>Bagnaia</td>\n",
       "      <td>Bagnaia</td>\n",
       "      <td>0</td>\n",
       "      <td>1915</td>\n",
       "      <td>None</td>\n",
       "      <td>None</td>\n",
       "      <td>None</td>\n",
       "    </tr>\n",
       "    <tr>\n",
       "      <th>2</th>\n",
       "      <td>tt13710918</td>\n",
       "      <td>movie</td>\n",
       "      <td>Ameera</td>\n",
       "      <td>Ameera</td>\n",
       "      <td>0</td>\n",
       "      <td>2021</td>\n",
       "      <td>None</td>\n",
       "      <td>91</td>\n",
       "      <td>Drama</td>\n",
       "    </tr>\n",
       "    <tr>\n",
       "      <th>3</th>\n",
       "      <td>tt1371100</td>\n",
       "      <td>movie</td>\n",
       "      <td>Bugergiaria</td>\n",
       "      <td>Bugergiaria</td>\n",
       "      <td>0</td>\n",
       "      <td>1921</td>\n",
       "      <td>None</td>\n",
       "      <td>None</td>\n",
       "      <td>None</td>\n",
       "    </tr>\n",
       "    <tr>\n",
       "      <th>4</th>\n",
       "      <td>tt1371104</td>\n",
       "      <td>movie</td>\n",
       "      <td>Candy Land</td>\n",
       "      <td>Candy Land</td>\n",
       "      <td>0</td>\n",
       "      <td>None</td>\n",
       "      <td>None</td>\n",
       "      <td>None</td>\n",
       "      <td>Adventure</td>\n",
       "    </tr>\n",
       "  </tbody>\n",
       "</table>\n",
       "</div>"
      ],
      "text/plain": [
       "       tconst titletype  ... runtimeminutes     genres\n",
       "0  tt13710866     movie  ...           None      Drama\n",
       "1   tt1371087     movie  ...           None       None\n",
       "2  tt13710918     movie  ...             91      Drama\n",
       "3   tt1371100     movie  ...           None       None\n",
       "4   tt1371104     movie  ...           None  Adventure\n",
       "\n",
       "[5 rows x 9 columns]"
      ]
     },
     "execution_count": 27,
     "metadata": {},
     "output_type": "execute_result"
    }
   ],
   "source": [
    "df1.head()"
   ]
  },
  {
   "cell_type": "code",
   "execution_count": 0,
   "metadata": {
    "application/vnd.databricks.v1+cell": {
     "cellMetadata": {
      "byteLimit": 2048000,
      "rowLimit": 10000
     },
     "inputWidgets": {},
     "nuid": "e58e684e-45bf-4a18-95b0-cb541e481cbc",
     "showTitle": false,
     "title": ""
    }
   },
   "outputs": [
    {
     "output_type": "execute_result",
     "data": {
      "text/html": [
       "<div>\n",
       "<style scoped>\n",
       "    .dataframe tbody tr th:only-of-type {\n",
       "        vertical-align: middle;\n",
       "    }\n",
       "\n",
       "    .dataframe tbody tr th {\n",
       "        vertical-align: top;\n",
       "    }\n",
       "\n",
       "    .dataframe thead th {\n",
       "        text-align: right;\n",
       "    }\n",
       "</style>\n",
       "<table border=\"1\" class=\"dataframe\">\n",
       "  <thead>\n",
       "    <tr style=\"text-align: right;\">\n",
       "      <th></th>\n",
       "      <th>tconst</th>\n",
       "      <th>averagerating</th>\n",
       "      <th>numvotes</th>\n",
       "    </tr>\n",
       "  </thead>\n",
       "  <tbody>\n",
       "    <tr>\n",
       "      <th>0</th>\n",
       "      <td>tt0000001</td>\n",
       "      <td>5.7</td>\n",
       "      <td>1990</td>\n",
       "    </tr>\n",
       "    <tr>\n",
       "      <th>1</th>\n",
       "      <td>tt0000002</td>\n",
       "      <td>5.8</td>\n",
       "      <td>265</td>\n",
       "    </tr>\n",
       "    <tr>\n",
       "      <th>2</th>\n",
       "      <td>tt0000003</td>\n",
       "      <td>6.5</td>\n",
       "      <td>1857</td>\n",
       "    </tr>\n",
       "    <tr>\n",
       "      <th>3</th>\n",
       "      <td>tt0000004</td>\n",
       "      <td>5.5</td>\n",
       "      <td>178</td>\n",
       "    </tr>\n",
       "    <tr>\n",
       "      <th>4</th>\n",
       "      <td>tt0000005</td>\n",
       "      <td>6.2</td>\n",
       "      <td>2643</td>\n",
       "    </tr>\n",
       "  </tbody>\n",
       "</table>\n",
       "</div>"
      ],
      "text/plain": [
       "      tconst averagerating numvotes\n",
       "0  tt0000001           5.7     1990\n",
       "1  tt0000002           5.8      265\n",
       "2  tt0000003           6.5     1857\n",
       "3  tt0000004           5.5      178\n",
       "4  tt0000005           6.2     2643"
      ]
     },
     "execution_count": 7,
     "metadata": {},
     "output_type": "execute_result"
    }
   ],
   "source": [
    "df2.head()"
   ]
  },
  {
   "cell_type": "code",
   "execution_count": 0,
   "metadata": {
    "application/vnd.databricks.v1+cell": {
     "cellMetadata": {
      "byteLimit": 2048000,
      "rowLimit": 10000
     },
     "inputWidgets": {},
     "nuid": "99e13492-e7aa-4edf-8ccf-7383a9b350da",
     "showTitle": false,
     "title": ""
    }
   },
   "outputs": [],
   "source": [
    "movies = df1.merge(df2,left_on='tconst',right_on='tconst',how='left')\n",
    "# movies = movies[['id','original_title','genres','cast','vote_average','director','keywords']]\n",
    "movies = movies[['tconst','originaltitle','genres','isadult','startyear','runtimeminutes','averagerating','numvotes']]"
   ]
  },
  {
   "cell_type": "code",
   "execution_count": 0,
   "metadata": {
    "application/vnd.databricks.v1+cell": {
     "cellMetadata": {
      "byteLimit": 2048000,
      "rowLimit": 10000
     },
     "inputWidgets": {},
     "nuid": "9b5ed849-03e6-456c-b94a-455ff4d6d842",
     "showTitle": false,
     "title": ""
    }
   },
   "outputs": [],
   "source": [
    "movies['genres'] = movies['genres'].str.strip('[]').str.replace(' ','').str.replace(\"'\",'')\n",
    "movies['genres'] = movies['genres'].str.split(',')"
   ]
  },
  {
   "cell_type": "code",
   "execution_count": 0,
   "metadata": {
    "application/vnd.databricks.v1+cell": {
     "cellMetadata": {
      "byteLimit": 2048000,
      "rowLimit": 10000
     },
     "inputWidgets": {},
     "nuid": "c6cd71f1-467a-4b83-ab66-b39ea636d99a",
     "showTitle": false,
     "title": ""
    }
   },
   "outputs": [
    {
     "output_type": "execute_result",
     "data": {
      "text/plain": [
       "0    [Documentary, Short]\n",
       "1                 [Short]\n",
       "2                [Sci-Fi]\n",
       "3                 [Drama]\n",
       "4                 [Adult]\n",
       "5                 [Drama]\n",
       "6          [Drama, Short]\n",
       "7                 [Drama]\n",
       "8                 [Drama]\n",
       "9                 [Drama]\n",
       "Name: genres, dtype: object"
      ]
     },
     "execution_count": 31,
     "metadata": {},
     "output_type": "execute_result"
    }
   ],
   "source": [
    "movies['genres'].head(10)"
   ]
  },
  {
   "cell_type": "code",
   "execution_count": 0,
   "metadata": {
    "application/vnd.databricks.v1+cell": {
     "cellMetadata": {
      "byteLimit": 2048000,
      "rowLimit": 10000
     },
     "inputWidgets": {},
     "nuid": "d3bbdc37-8d2e-4907-ab02-8c6316cdb52a",
     "showTitle": false,
     "title": ""
    }
   },
   "outputs": [],
   "source": [
    "movies = movies[movies['genres'].notna()]\n",
    "# movies = movies[movies['averagerating'].notna()]\n",
    "# movies = movies[movies['numvotes'].notna()]\n",
    "\n"
   ]
  },
  {
   "cell_type": "code",
   "execution_count": 0,
   "metadata": {
    "application/vnd.databricks.v1+cell": {
     "cellMetadata": {
      "byteLimit": 2048000,
      "rowLimit": 10000
     },
     "inputWidgets": {},
     "nuid": "6049e6b3-06b6-4687-a899-4021ddbe080c",
     "showTitle": false,
     "title": ""
    }
   },
   "outputs": [
    {
     "output_type": "display_data",
     "data": {
      "image/png": "[encoded data removed]",
      "text/plain": [
       "<Figure size 1200x1000 with 1 Axes>"
      ]
     },
     "metadata": {},
     "output_type": "display_data"
    }
   ],
   "source": [
    "plt.subplots(figsize=(12,10))\n",
    "list1 = []\n",
    "genereList = set()\n",
    "for i in movies['genres']:\n",
    "    list1.extend(i)\n",
    "ax = pd.Series(list1).value_counts()[:10].sort_values(ascending=True).plot.barh(width=0.9,color=sns.color_palette('hls',10))\n",
    "for i, v in enumerate(pd.Series(list1).value_counts()[:10].sort_values(ascending=True).values):\n",
    "    ax.text(.8, i, v,fontsize=12,color='white',weight='bold')\n",
    "plt.title('Top Genres')\n",
    "plt.show()"
   ]
  },
  {
   "cell_type": "code",
   "execution_count": 0,
   "metadata": {
    "application/vnd.databricks.v1+cell": {
     "cellMetadata": {
      "byteLimit": 2048000,
      "rowLimit": 10000
     },
     "inputWidgets": {},
     "nuid": "74c0c137-1121-421d-a290-793eab573a9d",
     "showTitle": false,
     "title": ""
    }
   },
   "outputs": [],
   "source": [
    "genreList = []\n",
    "for index, row in movies.iterrows():\n",
    "    genres = row[\"genres\"]\n",
    "    \n",
    "    for genre in genres:\n",
    "        if genre not in genreList:\n",
    "            genreList.append(genre)\n"
   ]
  },
  {
   "cell_type": "code",
   "execution_count": 0,
   "metadata": {
    "application/vnd.databricks.v1+cell": {
     "cellMetadata": {
      "byteLimit": 2048000,
      "rowLimit": 10000
     },
     "inputWidgets": {},
     "nuid": "64b9a80d-ada7-4ddf-b31b-dbd90e1e4946",
     "showTitle": false,
     "title": ""
    }
   },
   "outputs": [],
   "source": [
    "def binary(genre_list):\n",
    "    binaryList = []\n",
    "    \n",
    "    for genre in genreList:\n",
    "        if genre in genre_list:\n",
    "            binaryList.append(1)\n",
    "        else:\n",
    "            binaryList.append(0)\n",
    "    \n",
    "    return binaryList"
   ]
  },
  {
   "cell_type": "code",
   "execution_count": 0,
   "metadata": {
    "application/vnd.databricks.v1+cell": {
     "cellMetadata": {
      "byteLimit": 2048000,
      "rowLimit": 10000
     },
     "inputWidgets": {},
     "nuid": "63725639-03a5-4186-ba34-672c815877a5",
     "showTitle": false,
     "title": ""
    }
   },
   "outputs": [
    {
     "output_type": "execute_result",
     "data": {
      "text/plain": [
       "0    [1, 0, 0, 0, 0, 0, 0, 0, 0, 0]\n",
       "2    [1, 0, 0, 0, 0, 0, 0, 0, 0, 0]\n",
       "4    [0, 1, 0, 0, 0, 0, 0, 0, 0, 0]\n",
       "5    [0, 0, 1, 0, 0, 0, 0, 0, 0, 0]\n",
       "6    [0, 0, 1, 0, 0, 0, 0, 0, 0, 0]\n",
       "Name: genres_bin, dtype: object"
      ]
     },
     "execution_count": 14,
     "metadata": {},
     "output_type": "execute_result"
    }
   ],
   "source": [
    "movies['genres_bin'] = movies['genres'].apply(lambda x: binary(x))\n",
    "movies['genres_bin'].head()"
   ]
  },
  {
   "cell_type": "code",
   "execution_count": 0,
   "metadata": {
    "application/vnd.databricks.v1+cell": {
     "cellMetadata": {
      "byteLimit": 2048000,
      "rowLimit": 10000
     },
     "inputWidgets": {},
     "nuid": "0a95e954-c3a8-4ce0-8f64-bbf7bd217628",
     "showTitle": false,
     "title": ""
    }
   },
   "outputs": [],
   "source": [
    "from scipy import spatial\n",
    "def Similarity(movieId1, movieId2):\n",
    "    a = movies.iloc[movieId1]\n",
    "    b = movies.iloc[movieId2]\n",
    "    \n",
    "    genresA = a['genres_bin']\n",
    "    genresB = b['genres_bin']\n",
    "    \n",
    "    genreDistance = spatial.distance.cosine(genresA, genresB)\n",
    "    return genreDistance"
   ]
  },
  {
   "cell_type": "code",
   "execution_count": 0,
   "metadata": {
    "application/vnd.databricks.v1+cell": {
     "cellMetadata": {
      "byteLimit": 2048000,
      "rowLimit": 10000
     },
     "inputWidgets": {},
     "nuid": "165ed1b6-0cdc-4f8b-941f-f14901096fc0",
     "showTitle": false,
     "title": ""
    }
   },
   "outputs": [],
   "source": [
    "new_id = list(range(0,movies.shape[0]))\n",
    "movies['new_id']=new_id\n",
    "# movies=movies[['original_title','genres','vote_average','genres_bin','cast_bin','new_id','director','director_bin','words_bin']]\n",
    "movies = movies[['new_id','tconst','originaltitle','genres','genres_bin','isadult','startyear','runtimeminutes','averagerating','numvotes']]\n"
   ]
  },
  {
   "cell_type": "code",
   "execution_count": 0,
   "metadata": {
    "application/vnd.databricks.v1+cell": {
     "cellMetadata": {
      "byteLimit": 2048000,
      "rowLimit": 10000
     },
     "inputWidgets": {},
     "nuid": "d256c020-3f54-4156-9a2c-c6971cdacb1c",
     "showTitle": false,
     "title": ""
    }
   },
   "outputs": [],
   "source": [
    "\n",
    "import operator\n",
    "\n",
    "def predict_score(name):\n",
    "    matching_movies = movies[movies['originaltitle'].str.contains(name)]\n",
    "\n",
    "    if matching_movies.empty:\n",
    "        print(f\"No movies found with a title containing '{name}'.\")\n",
    "        return\n",
    "\n",
    "    new_movie = matching_movies.iloc[0].to_frame().T\n",
    "    print('Selected Movie:', new_movie.originaltitle.values[0])\n",
    "\n",
    "    def getNeighbors(baseMovie, K):\n",
    "        distances = []\n",
    "\n",
    "        for index, movie in movies.iterrows():\n",
    "            if movie['new_id'] != baseMovie['new_id'].values[0]:\n",
    "                dist = Similarity(baseMovie['new_id'].values[0], movie['new_id'])\n",
    "                distances.append((movie['new_id'], dist))\n",
    "\n",
    "        distances.sort(key=operator.itemgetter(1))\n",
    "        neighbors = []\n",
    "\n",
    "        for x in range(min(K, len(distances))): \n",
    "            neighbors.append(distances[x])\n",
    "\n",
    "        return neighbors\n",
    "\n",
    "    K = 10\n",
    "    avgRating = 0.0\n",
    "    neighbors = getNeighbors(new_movie, K)\n",
    "\n",
    "    print('\\nRecommended Movies: \\n')\n",
    "    for neighbor in neighbors:\n",
    "        neighbor_index = neighbor[0]\n",
    "        if 0 <= neighbor_index < len(movies):\n",
    "            neighbor_rating = float(movies.iloc[neighbor_index]['averagerating'])\n",
    "            avgRating += neighbor_rating\n",
    "            print(f\"{movies.iloc[neighbor_index]['originaltitle']} | Genres: {str(movies.iloc[neighbor_index]['genres']).strip('[]').replace(' ', '')}\")\n",
    "        else:\n",
    "            print(f\"Invalid index: {neighbor_index}\")\n",
    "\n",
    "    print('\\n')\n",
    "    avgRating = avgRating / max(1, len(neighbors))  \n",
    "    print(f\"The predicted rating for {new_movie['originaltitle'].values[0]} is: {avgRating:.2f}\")\n",
    "    print(f\"The actual rating for {new_movie['originaltitle'].values[0]} is {new_movie['averagerating'].values[0]}\")\n",
    "\n"
   ]
  },
  {
   "cell_type": "code",
   "execution_count": 0,
   "metadata": {
    "application/vnd.databricks.v1+cell": {
     "cellMetadata": {
      "byteLimit": 2048000,
      "rowLimit": 10000
     },
     "inputWidgets": {},
     "nuid": "3852cb19-d2f5-4579-8cbf-0bfcae608ed1",
     "showTitle": false,
     "title": ""
    }
   },
   "outputs": [
    {
     "output_type": "stream",
     "name": "stdout",
     "output_type": "stream",
     "text": [
      "Selected Movie: Guardian\n\nRecommended Movies: \n\nDark Zero 48 | Genres: 'Thriller'\nDamascus Gate | Genres: 'Drama','Thriller'\nDear Mr. Gacy | Genres: 'Crime','Drama','Thriller'\nUnnecessary Roughness | Genres: 'Drama'\nAmeera | Genres: 'Drama'\nCandy Land | Genres: 'Adventure'\nPrem Pahil Vahil | Genres: 'Romance'\nKey Club | Genres: 'Romance'\nA Small Town Nutcracker Story | Genres: 'Family'\nThe Exotic Dancer | Genres: 'Drama'\n\n\nThe predicted rating for Guardian is: nan\nThe actual rating for Guardian is nan\n"
     ]
    }
   ],
   "source": [
    "predict_score('Guardian')"
   ]
  },
  {
   "cell_type": "code",
   "execution_count": 0,
   "metadata": {
    "application/vnd.databricks.v1+cell": {
     "cellMetadata": {
      "byteLimit": 2048000,
      "rowLimit": 10000
     },
     "inputWidgets": {},
     "nuid": "d48ebc39-861f-4aac-a003-13ff5f51725b",
     "showTitle": false,
     "title": ""
    }
   },
   "outputs": [
    {
     "output_type": "stream",
     "name": "stdout",
     "output_type": "stream",
     "text": [
      "Selected Movie: Key Club\n\nRecommended Movies: \n\nPrem Pahil Vahil | Genres: 'Romance'\nStylish Memsaheb | Genres: 'Romance'\nUnnecessary Roughness | Genres: 'Drama'\nAmeera | Genres: 'Drama'\nCandy Land | Genres: 'Adventure'\nA Small Town Nutcracker Story | Genres: 'Family'\nThe Exotic Dancer | Genres: 'Drama'\nCloud Atlas | Genres: 'Drama','Mystery','Sci-Fi'\nDark Zero 48 | Genres: 'Thriller'\nDream Theater: Distant Memories Live in London | Genres: 'Music'\n\n\nThe predicted rating for Key Club is: nan\nThe actual rating for Key Club is nan\n"
     ]
    }
   ],
   "source": [
    "predict_score('Key Club')"
   ]
  },
  {
   "cell_type": "code",
   "execution_count": 0,
   "metadata": {
    "application/vnd.databricks.v1+cell": {
     "cellMetadata": {
      "byteLimit": 2048000,
      "rowLimit": 10000
     },
     "inputWidgets": {},
     "nuid": "eebd6763-88ac-4e98-b87f-3a29d9d8e9f7",
     "showTitle": false,
     "title": ""
    }
   },
   "outputs": [
    {
     "output_type": "stream",
     "name": "stdout",
     "output_type": "stream",
     "text": [
      "Selected Movie: Dark Zero 48\n\nRecommended Movies: \n\nGuardian | Genres: 'Thriller'\nDamascus Gate | Genres: 'Drama','Thriller'\nDear Mr. Gacy | Genres: 'Crime','Drama','Thriller'\nUnnecessary Roughness | Genres: 'Drama'\nAmeera | Genres: 'Drama'\nCandy Land | Genres: 'Adventure'\nPrem Pahil Vahil | Genres: 'Romance'\nKey Club | Genres: 'Romance'\nA Small Town Nutcracker Story | Genres: 'Family'\nThe Exotic Dancer | Genres: 'Drama'\n\n\nThe predicted rating for Dark Zero 48 is: nan\nThe actual rating for Dark Zero 48 is nan\n"
     ]
    }
   ],
   "source": [
    "predict_score(\"Dark Zero 48\")"
   ]
  }
 ],
 "metadata": {
  "application/vnd.databricks.v1+notebook": {
   "dashboards": [],
   "language": "python",
   "notebookMetadata": {
    "pythonIndentUnit": 4
   },
   "notebookName": "movie_recommendation",
   "widgets": {}
  }
 },
 "nbformat": 4,
 "nbformat_minor": 0
}
